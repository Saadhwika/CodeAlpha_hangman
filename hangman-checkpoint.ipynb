{
 "cells": [
  {
   "cell_type": "code",
   "execution_count": 2,
   "id": "2adefdc7-75dd-4466-a008-9ab9c48c805d",
   "metadata": {},
   "outputs": [
    {
     "name": "stderr",
     "output_type": "stream",
     "text": [
      "<>:31: SyntaxWarning: invalid escape sequence '\\ '\n",
      "<>:38: SyntaxWarning: invalid escape sequence '\\ '\n",
      "<>:45: SyntaxWarning: invalid escape sequence '\\ '\n",
      "<>:31: SyntaxWarning: invalid escape sequence '\\ '\n",
      "<>:38: SyntaxWarning: invalid escape sequence '\\ '\n",
      "<>:45: SyntaxWarning: invalid escape sequence '\\ '\n",
      "C:\\Users\\saadh\\AppData\\Local\\Temp\\ipykernel_10192\\616910107.py:31: SyntaxWarning: invalid escape sequence '\\ '\n",
      "  =========''', '''\n",
      "C:\\Users\\saadh\\AppData\\Local\\Temp\\ipykernel_10192\\616910107.py:38: SyntaxWarning: invalid escape sequence '\\ '\n",
      "  =========''', '''\n",
      "C:\\Users\\saadh\\AppData\\Local\\Temp\\ipykernel_10192\\616910107.py:45: SyntaxWarning: invalid escape sequence '\\ '\n",
      "  =========''', '''\n"
     ]
    },
    {
     "name": "stdout",
     "output_type": "stream",
     "text": [
      "Welcome to Hangman!\n",
      "\n",
      "  +---+\n",
      "  |   |\n",
      "      |\n",
      "      |\n",
      "      |\n",
      "      |\n",
      "=========\n",
      "_ _ _ _ _ _ _\n"
     ]
    },
    {
     "name": "stdin",
     "output_type": "stream",
     "text": [
      "Guess a letter:  h\n"
     ]
    },
    {
     "name": "stdout",
     "output_type": "stream",
     "text": [
      "Correct!\n",
      "\n",
      "  +---+\n",
      "  |   |\n",
      "      |\n",
      "      |\n",
      "      |\n",
      "      |\n",
      "=========\n",
      "h _ _ _ _ _ _\n"
     ]
    },
    {
     "name": "stdin",
     "output_type": "stream",
     "text": [
      "Guess a letter:  a\n"
     ]
    },
    {
     "name": "stdout",
     "output_type": "stream",
     "text": [
      "Correct!\n",
      "\n",
      "  +---+\n",
      "  |   |\n",
      "      |\n",
      "      |\n",
      "      |\n",
      "      |\n",
      "=========\n",
      "h a _ _ _ a _\n"
     ]
    },
    {
     "name": "stdin",
     "output_type": "stream",
     "text": [
      "Guess a letter:  n\n"
     ]
    },
    {
     "name": "stdout",
     "output_type": "stream",
     "text": [
      "Correct!\n",
      "\n",
      "  +---+\n",
      "  |   |\n",
      "      |\n",
      "      |\n",
      "      |\n",
      "      |\n",
      "=========\n",
      "h a n _ _ a n\n"
     ]
    },
    {
     "name": "stdin",
     "output_type": "stream",
     "text": [
      "Guess a letter:  g\n"
     ]
    },
    {
     "name": "stdout",
     "output_type": "stream",
     "text": [
      "Correct!\n",
      "\n",
      "  +---+\n",
      "  |   |\n",
      "      |\n",
      "      |\n",
      "      |\n",
      "      |\n",
      "=========\n",
      "h a n g _ a n\n"
     ]
    },
    {
     "name": "stdin",
     "output_type": "stream",
     "text": [
      "Guess a letter:  m\n"
     ]
    },
    {
     "name": "stdout",
     "output_type": "stream",
     "text": [
      "Correct!\n",
      "You won! Score: 1\n"
     ]
    }
   ],
   "source": [
    "import random\n",
    "# Enhanced with ASCII art + score tracki\n",
    "hangman_art = ['''\n",
    "  +---+\n",
    "  |   |\n",
    "      |\n",
    "      |\n",
    "      |\n",
    "      |\n",
    "=========''', '''\n",
    "  +---+\n",
    "  |   |\n",
    "  O   |\n",
    "      |\n",
    "      |\n",
    "      |\n",
    "=========''', '''\n",
    "  +---+\n",
    "  |   |\n",
    "  O   |\n",
    "  |   |\n",
    "      |\n",
    "      |\n",
    "=========''', '''\n",
    "  +---+\n",
    "  |   |\n",
    "  O   |\n",
    " /|   |\n",
    "      |\n",
    "      |\n",
    "=========''', '''\n",
    "  +---+\n",
    "  |   |\n",
    "  O   |\n",
    " /|\\  |\n",
    "      |\n",
    "      |\n",
    "=========''', '''\n",
    "  +---+\n",
    "  |   |\n",
    "  O   |\n",
    " /|\\  |\n",
    " /    |\n",
    "      |\n",
    "=========''', '''\n",
    "  +---+\n",
    "  |   |\n",
    "  O   |\n",
    " /|\\  |\n",
    " / \\  |\n",
    "      |\n",
    "=========''']\n",
    "words = [\"debug\", \"encrypt\", \n",
    "         \"firewall\", \"github\", \"javascript\"]\n",
    "word = random.choice(words).lower()\n",
    "guessed = [\"_\"] * len(word)\n",
    "attempts = 6\n",
    "score = 0\n",
    "print(\"Welcome to Hangman!\")\n",
    "while attempts > 0 and \"_\" in guessed:\n",
    "    print(hangman_art[6 - attempts])\n",
    "    print(\" \".join(guessed))\n",
    "    guess = input(\"Guess a letter: \").lower()\n",
    "    if guess in word:\n",
    "        for i, letter in enumerate(word):\n",
    "            if letter == guess:\n",
    "                guessed[i] = guess\n",
    "        print(\"Correct!\")\n",
    "    else:\n",
    "        attempts -= 1\n",
    "        print(f\"Wrong! Attempts left: {attempts}\")\n",
    "if \"_\" not in guessed:\n",
    "    score += 1\n",
    "    print(f\"You won! Score: {score}\")\n",
    "else:\n",
    "    print(f\"You lost! Word was: {word}\")\n",
    "# Save score to file\n",
    "with open(\"hangman_score.txt\", \"a\") as f:\n",
    "    f.write(f\"Score: {score}\\n\")"
   ]
  },
  {
   "cell_type": "code",
   "execution_count": null,
   "id": "c020492e-b77e-4386-9881-6e7890e39f26",
   "metadata": {},
   "outputs": [],
   "source": []
  }
 ],
 "metadata": {
  "kernelspec": {
   "display_name": "Python 3 (ipykernel)",
   "language": "python",
   "name": "python3"
  },
  "language_info": {
   "codemirror_mode": {
    "name": "ipython",
    "version": 3
   },
   "file_extension": ".py",
   "mimetype": "text/x-python",
   "name": "python",
   "nbconvert_exporter": "python",
   "pygments_lexer": "ipython3",
   "version": "3.12.7"
  }
 },
 "nbformat": 4,
 "nbformat_minor": 5
}
